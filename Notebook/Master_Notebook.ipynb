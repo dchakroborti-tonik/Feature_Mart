{
 "cells": [
  {
   "cell_type": "code",
   "execution_count": 1,
   "id": "289547bf",
   "metadata": {},
   "outputs": [],
   "source": [
    "# %% [markdown]\n",
    "# # Jupyter Notebook Loading Header\n",
    "#\n",
    "# This is a custom loading header for Jupyter Notebooks in Visual Studio Code.\n",
    "# It includes common imports and settings to get you started quickly.\n",
    "# %% [markdown]\n",
    "## Import Libraries\n",
    "import pandas as pd\n",
    "import numpy as np\n",
    "import matplotlib.pyplot as plt\n",
    "import seaborn as sns\n",
    "from google.cloud import bigquery\n",
    "import os\n",
    "path = r'C:\\Users\\Dwaipayan\\AppData\\Roaming\\gcloud\\legacy_credentials\\dchakroborti@tonikbank.com\\adc.json'\n",
    "os.environ['GOOGLE_APPLICATION_CREDENTIALS'] = path\n",
    "client = bigquery.Client(project='prj-prod-dataplatform')\n",
    "\n",
    "\n",
    "from datetime import datetime\n",
    "\n",
    "# %% [markdown]\n",
    "## Configure Settings\n",
    "# Set options or configurations as needed\n",
    "\n",
    "# Example: pd.set_option('display.max_columns', None)\n",
    "\n",
    "\n",
    "import os\n",
    "from nbclient import NotebookClient\n",
    "from nbformat import read\n",
    "import time\n"
   ]
  },
  {
   "cell_type": "code",
   "execution_count": null,
   "id": "2daca260",
   "metadata": {},
   "outputs": [
    {
     "name": "stdout",
     "output_type": "stream",
     "text": [
      "Current Working Directory: d:\\OneDrive - Tonik Financial Pte Ltd\\MyStuff\\Data Science\\Project\\Feature_Mart\\Notebook\n",
      "Executing: d:\\OneDrive - Tonik Financial Pte Ltd\\MyStuff\\Data Science\\Project\\Feature_Mart\\Notebook\\Loan_Application_rank.ipynb\n"
     ]
    },
    {
     "name": "stderr",
     "output_type": "stream",
     "text": [
      "c:\\ProgramData\\anaconda3\\Lib\\site-packages\\zmq\\_future.py:693: RuntimeWarning: Proactor event loop does not implement add_reader family of methods required for zmq. Registering an additional selector thread for add_reader support via tornado. Use `asyncio.set_event_loop_policy(WindowsSelectorEventLoopPolicy())` to avoid this warning.\n",
      "  self._get_loop()\n"
     ]
    },
    {
     "name": "stdout",
     "output_type": "stream",
     "text": [
      "Finished: Loan_Application_rank.ipynb in 11.47 seconds\n",
      "Executing: d:\\OneDrive - Tonik Financial Pte Ltd\\MyStuff\\Data Science\\Project\\Feature_Mart\\Notebook\\Loan_Application_customer_rank.ipynb\n",
      "Finished: Loan_Application_customer_rank.ipynb in 16.03 seconds\n",
      "Executing: d:\\OneDrive - Tonik Financial Pte Ltd\\MyStuff\\Data Science\\Project\\Feature_Mart\\Notebook\\Loan_Application_Reference_type1.ipynb\n",
      "Finished: Loan_Application_Reference_type1.ipynb in 14.75 seconds\n",
      "Executing: d:\\OneDrive - Tonik Financial Pte Ltd\\MyStuff\\Data Science\\Project\\Feature_Mart\\Notebook\\Loan_Application_Reference_type2.ipynb\n",
      "Finished: Loan_Application_Reference_type2.ipynb in 11.28 seconds\n",
      "Executing: d:\\OneDrive - Tonik Financial Pte Ltd\\MyStuff\\Data Science\\Project\\Feature_Mart\\Notebook\\Loan_Application_Reference_Type.ipynb\n",
      "Finished: Loan_Application_Reference_Type.ipynb in 15.23 seconds\n",
      "Executing: d:\\OneDrive - Tonik Financial Pte Ltd\\MyStuff\\Data Science\\Project\\Feature_Mart\\Notebook\\Loan_Disbursed_customer_rank.ipynb\n",
      "Finished: Loan_Disbursed_customer_rank.ipynb in 9.96 seconds\n",
      "Executing: d:\\OneDrive - Tonik Financial Pte Ltd\\MyStuff\\Data Science\\Project\\Feature_Mart\\Notebook\\Loan_Application_Education_Level.ipynb\n",
      "Finished: Loan_Application_Education_Level.ipynb in 388.52 seconds\n",
      "Executing: d:\\OneDrive - Tonik Financial Pte Ltd\\MyStuff\\Data Science\\Project\\Feature_Mart\\Notebook\\Loan_Application_history.ipynb\n",
      "Finished: Loan_Application_history.ipynb in 857.57 seconds\n"
     ]
    }
   ],
   "source": [
    "\n",
    "# Get current working directory\n",
    "cwd = os.getcwd()\n",
    "print(f\"Current Working Directory: {cwd}\")\n",
    "\n",
    "# Manually specify the sequence of notebooks (filenames only)\n",
    "notebooks = [\n",
    "    \"Loan_Application_rank.ipynb\",\n",
    "    \"Loan_Application_customer_rank.ipynb\",\n",
    "    \"Loan_Application_Reference_type1.ipynb\",\n",
    "    \"Loan_Application_Reference_type2.ipynb\",\n",
    "    \"Loan_Application_Reference_Type.ipynb\",\n",
    "    \"Loan_Disbursed_customer_rank.ipynb\",\n",
    "    \"Loan_Application_Education_Level.ipynb\",\n",
    "    \"Loan_Application_history.ipynb\",\n",
    "    \"lat_cust_info.ipynb\",\n",
    "]\n",
    "\n",
    "\n",
    "# Execute each notebook in the specified order\n",
    "for nb_name in notebooks:\n",
    "    full_path = os.path.join(cwd, nb_name)\n",
    "    print(f\"Executing: {full_path}\")\n",
    "    \n",
    "    start_time = time.time()\n",
    "\n",
    "    with open(full_path) as f:\n",
    "        nb = read(f, as_version=4)\n",
    "        client = NotebookClient(nb)\n",
    "        client.execute()\n",
    "        \n",
    "\n",
    "    end_time = time.time()\n",
    "    duration_minutes = (end_time - start_time) / 60\n",
    "\n",
    "    print(f\"Finished: {nb_name} in {duration_minutes:.2f} minutes\")\n",
    "\n"
   ]
  },
  {
   "cell_type": "code",
   "execution_count": null,
   "id": "53d954a3",
   "metadata": {},
   "outputs": [],
   "source": []
  }
 ],
 "metadata": {
  "kernelspec": {
   "display_name": "base",
   "language": "python",
   "name": "python3"
  },
  "language_info": {
   "codemirror_mode": {
    "name": "ipython",
    "version": 3
   },
   "file_extension": ".py",
   "mimetype": "text/x-python",
   "name": "python",
   "nbconvert_exporter": "python",
   "pygments_lexer": "ipython3",
   "version": "3.12.7"
  }
 },
 "nbformat": 4,
 "nbformat_minor": 5
}
