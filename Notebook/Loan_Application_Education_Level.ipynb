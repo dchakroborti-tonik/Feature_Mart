{
 "cells": [
  {
   "cell_type": "markdown",
   "id": "4a1d5abb",
   "metadata": {},
   "source": [
    "# <div align = \"center\" style=\"color:rgb(250, 250, 20);\"> lat_educationtype </div>"
   ]
  },
  {
   "cell_type": "code",
   "execution_count": 1,
   "id": "6c6b8e84",
   "metadata": {},
   "outputs": [],
   "source": [
    "# Declare Library\n",
    "\n",
    "# %% [markdown]\n",
    "# # Jupyter Notebook Loading Header\n",
    "#\n",
    "# This is a custom loading header for Jupyter Notebooks in Visual Studio Code.\n",
    "# It includes common imports and settings to get you started quickly.\n",
    "# %% [markdown]\n",
    "## Import Libraries\n",
    "import pandas as pd\n",
    "import numpy as np\n",
    "import matplotlib.pyplot as plt\n",
    "import seaborn as sns\n",
    "from google.cloud import bigquery\n",
    "import os\n",
    "path = r'C:\\Users\\Dwaipayan\\AppData\\Roaming\\gcloud\\legacy_credentials\\dchakroborti@tonikbank.com\\adc.json'\n",
    "os.environ['GOOGLE_APPLICATION_CREDENTIALS'] = path\n",
    "client = bigquery.Client(project='prj-prod-dataplatform')\n",
    "\n",
    "\n",
    "from datetime import datetime\n",
    "\n",
    "# %% [markdown]\n",
    "## Configure Settings\n",
    "# Set options or configurations as needed\n",
    "\n",
    "# Example: pd.set_option('display.max_columns', None)\n",
    "\n"
   ]
  },
  {
   "cell_type": "markdown",
   "id": "912aee53",
   "metadata": {},
   "source": [
    "### Detailed Documentation: Loan Application Education Level Query\n",
    "\n",
    "#### **Objective**\n",
    "This query retrieves education level information for digital loan applications by joining loan application data with loan purpose details and education level metadata.\n",
    "\n",
    "---\n",
    "\n",
    "### **Query Structure**\n",
    "```sql\n",
    "SELECT\n",
    "    loan.digitalLoanAccountId,\n",
    "    loanAccountNumber,\n",
    "    loan.loanPurposeId,\n",
    "    education_id,\n",
    "    description AS education_level\n",
    "FROM dl_loans_db_raw.tdbk_digital_loan_application loan\n",
    "LEFT JOIN dl_loans_db_raw.tdbk_loan_purpose purpose\n",
    "    ON loan.loanPurposeId = purpose.loanPurposeId\n",
    "LEFT JOIN dl_loans_db_raw.tdbk_loan_lov_mtb\n",
    "    ON education_id = id AND module = 'Education'\n",
    "```\n",
    "\n",
    "---\n",
    "\n",
    "### **Key Components Explained**\n",
    "\n",
    "#### 1. **Base Table: Digital Loan Applications**\n",
    "```sql\n",
    "FROM dl_loans_db_raw.tdbk_digital_loan_application loan\n",
    "```\n",
    "- **Purpose**: Primary source of loan application records\n",
    "- **Alias**: `loan` (used for reference throughout query)\n",
    "- **Key Columns Selected**:\n",
    "  - `digitalLoanAccountId`: Unique identifier for digital loan account\n",
    "  - `loanAccountNumber`: Loan account identifier\n",
    "  - `loanPurposeId`: Foreign key to loan purpose table\n",
    "  - `education_id`: Foreign key to education level metadata\n",
    "\n",
    "---\n",
    "\n",
    "#### 2. **Loan Purpose Join (LEFT JOIN)**\n",
    "```sql\n",
    "LEFT JOIN dl_loans_db_raw.tdbk_loan_purpose purpose\n",
    "    ON loan.loanPurposeId = purpose.loanPurposeId\n",
    "```\n",
    "- **Purpose**: Retrieve loan purpose details\n",
    "- **Join Type**: `LEFT JOIN` (preserves all loan applications even without matching purpose)\n",
    "- **Join Condition**: \n",
    "  - `loan.loanPurposeId = purpose.loanPurposeId`\n",
    "  - Matches loan application to its purpose description\n",
    "- **Note**: While purpose columns aren't selected, this join ensures only valid purposes are considered\n",
    "\n",
    "---\n",
    "\n",
    "#### 3. **Education Level Metadata Join (LEFT JOIN)**\n",
    "```sql\n",
    "LEFT JOIN dl_loans_db_raw.tdbk_loan_lov_mtb\n",
    "    ON education_id = id AND module = 'Education'\n",
    "```\n",
    "- **Purpose**: Map education IDs to human-readable descriptions\n",
    "- **Join Conditions**:\n",
    "  1. `education_id = id`: Links application's education ID to metadata table\n",
    "  2. `module = 'Education'`: Filters metadata to only education-related records\n",
    "- **Result**:\n",
    "  - `description AS education_level`: Converts education ID to descriptive text\n",
    "- **Key Features**:\n",
    "  - Uses generic lookup table (`lov_mtb` = List of Values Multi-tenant Base)\n",
    "  - Module filter ensures only education metadata is considered\n",
    "\n",
    "---\n",
    "\n",
    "### **Output Columns**\n",
    "\n",
    "| Column Name | Source Table | Description |\n",
    "|-------------|--------------|-------------|\n",
    "| `digitalLoanAccountId` | tdbk_digital_loan_application | Unique digital loan identifier |\n",
    "| `loanAccountNumber` | tdbk_digital_loan_application | Standard loan account number |\n",
    "| `loanPurposeId` | tdbk_digital_loan_application | Identifier for loan purpose |\n",
    "| `education_id` | tdbk_digital_loan_application | Numeric education level code |\n",
    "| `education_level` | tdbk_loan_lov_mtb | Human-readable education description |\n",
    "\n",
    "---\n",
    "\n",
    "### **Logic Flow**\n",
    "1. Start with all records from digital loan application table\n",
    "2. Enrich with loan purpose details (if available)\n",
    "3. Map education IDs to text descriptions:\n",
    "   - Only consider 'Education' module records\n",
    "   - Convert `education_id` → `education_level`\n",
    "4. Return 5 key columns per loan application\n",
    "\n",
    "---\n",
    "\n",
    "### **Example Output**\n",
    "\n",
    "| digitalLoanAccountId | loanAccountNumber | loanPurposeId | education_id | education_level |\n",
    "|----------------------|-------------------|---------------|-------------|-----------------|\n",
    "| DL-10001 | LN-2023-12345 | 5 | 3 | Bachelor's Degree |\n",
    "| DL-10002 | LN-2023-12346 | 8 | 1 | High School |\n",
    "| DL-10003 | LN-2023-12347 | 2 | NULL | NULL |\n",
    "\n",
    "---\n",
    "\n",
    "### **Special Notes**\n",
    "1. **NULL Handling**:\n",
    "   - Applications without education IDs will show `NULL` for `education_level`\n",
    "   - Applications without valid purposes still appear in results (LEFT JOIN)\n",
    "\n",
    "2. **Metadata Structure**:\n",
    "   - The `tdbk_loan_lov_mtb` table is a shared lookup table\n",
    "   - Requires both ID match (`education_id = id`) AND module filter to isolate education data\n",
    "\n",
    "3. **Potential Issues**:\n",
    "   - Duplicate records if `tdbk_loan_lov_mtb` has multiple matches per education_id\n",
    "   - Missing education levels if module name isn't exactly 'Education'\n",
    "\n",
    "---\n",
    "\n",
    "### **Business Applications**\n",
    "1. **Customer Profiling**: Analyze education levels of loan applicants\n",
    "2. **Product Targeting**: Match loan products to education demographics\n",
    "3. **Risk Analysis**: Correlate education levels with loan performance\n",
    "4. **Compliance Reporting**: Track education diversity metrics\n",
    "\n",
    "This query provides a foundational dataset for analyzing the educational background of loan applicants, enabling data-driven decisions in marketing, risk assessment, and product development."
   ]
  },
  {
   "cell_type": "markdown",
   "id": "eb4591cd",
   "metadata": {},
   "source": [
    "## Query"
   ]
  },
  {
   "cell_type": "code",
   "execution_count": 2,
   "id": "95c0e68a",
   "metadata": {},
   "outputs": [
    {
     "name": "stdout",
     "output_type": "stream",
     "text": [
      "Created table: prj-prod-dataplatform.dap_ds_poweruser_playground.lat_educationtype\n"
     ]
    }
   ],
   "source": [
    "sq = \"\"\"\n",
    "create or replace table dap_ds_poweruser_playground.lat_educationtype as\n",
    "    SELECT\n",
    "        loan.digitalLoanAccountId,loanAccountNumber, loan.loanPurposeId,   education_id,\n",
    "        description AS education_level\n",
    "        FROM  dl_loans_db_raw.tdbk_digital_loan_application loan\n",
    "        LEFT JOIN  dl_loans_db_raw.tdbk_loan_purpose purpose\n",
    "                ON   loan.loanPurposeId = purpose.loanPurposeId\n",
    "        LEFT JOIN dl_loans_db_raw.tdbk_loan_lov_mtb\n",
    "                ON education_id = id AND module = 'Education'\n",
    ";\"\"\"\n",
    "\n",
    "query_job = client.query(sq)\n",
    "# Wait for the job to complete.\n",
    "query_job.result()\n",
    "print(f\"Created table: {query_job.destination}\")"
   ]
  },
  {
   "cell_type": "code",
   "execution_count": 4,
   "id": "b3644301",
   "metadata": {},
   "outputs": [
    {
     "name": "stdout",
     "output_type": "stream",
     "text": [
      "Job ID e9d61488-6f4b-452b-b6aa-32e58a634bec successfully executed: 100%|\u001b[32m██████████\u001b[0m|"
     ]
    },
    {
     "name": "stderr",
     "output_type": "stream",
     "text": [
      "C:\\Users\\Dwaipayan\\AppData\\Roaming\\Python\\Python312\\site-packages\\google\\cloud\\bigquery\\table.py:1900: UserWarning: BigQuery Storage module not found, fetch data with the REST endpoint instead.\n",
      "  warnings.warn(\n"
     ]
    },
    {
     "name": "stdout",
     "output_type": "stream",
     "text": [
      "\n",
      "Downloading: 100%|\u001b[32m██████████\u001b[0m|\n"
     ]
    }
   ],
   "source": [
    "sq = \"\"\"select * from dap_ds_poweruser_playground.lat_educationtype;\"\"\"\n",
    "df = client.query(sq).to_dataframe(progress_bar_type='tqdm')"
   ]
  },
  {
   "cell_type": "code",
   "execution_count": 5,
   "id": "801aaeeb",
   "metadata": {},
   "outputs": [
    {
     "name": "stdout",
     "output_type": "stream",
     "text": [
      "The query returned 2596627 rows.\n"
     ]
    }
   ],
   "source": [
    "print(f\"The query returned {len(df)} rows.\")"
   ]
  },
  {
   "cell_type": "code",
   "execution_count": 6,
   "id": "44fc3b08",
   "metadata": {},
   "outputs": [
    {
     "data": {
      "text/plain": [
       "['digitalLoanAccountId',\n",
       " 'loanAccountNumber',\n",
       " 'loanPurposeId',\n",
       " 'education_id',\n",
       " 'education_level']"
      ]
     },
     "execution_count": 6,
     "metadata": {},
     "output_type": "execute_result"
    }
   ],
   "source": [
    "df.columns.to_list()"
   ]
  },
  {
   "cell_type": "code",
   "execution_count": 8,
   "id": "d25ff3d5",
   "metadata": {},
   "outputs": [],
   "source": [
    "# Save locally\n",
    "local_path = \"temp_data.parquet\"\n",
    "df.to_parquet(local_path, engine='pyarrow')"
   ]
  },
  {
   "cell_type": "code",
   "execution_count": 9,
   "id": "77702226",
   "metadata": {},
   "outputs": [
    {
     "name": "stdout",
     "output_type": "stream",
     "text": [
      "File uploaded to gs://prod-asia-southeast1-tonik-aiml-workspace/DC/Feature_Mart/Data/2025-07-22_Loan_Application_education_level.parquet\n"
     ]
    }
   ],
   "source": [
    "from google.cloud import storage\n",
    "\n",
    "def upload_to_gcs(bucket_name, source_file, destination_blob_name):\n",
    "    \"\"\"Uploads a file to GCS bucket\"\"\"\n",
    "    storage_client = storage.Client(project=\"prj-prod-dataplatform\")\n",
    "    bucket = storage_client.bucket(bucket_name)\n",
    "    blob = bucket.blob(destination_blob_name)\n",
    "    blob.upload_from_filename(source_file)\n",
    "\n",
    "# GCS Configuration\n",
    "CURRENT_DATE = datetime.now().strftime(\"%Y-%m-%d\")\n",
    "BUCKET_NAME = \"prod-asia-southeast1-tonik-aiml-workspace\"\n",
    "DESTINATION_PATH = f\"DC/Feature_Mart/Data/{CURRENT_DATE}_Loan_Application_education_level.parquet\"  # Path within bucket\n",
    "\n",
    "# Upload\n",
    "upload_to_gcs(BUCKET_NAME, local_path, DESTINATION_PATH)\n",
    "print(f\"File uploaded to gs://{BUCKET_NAME}/{DESTINATION_PATH}\")"
   ]
  },
  {
   "cell_type": "code",
   "execution_count": null,
   "id": "8956d9a4",
   "metadata": {},
   "outputs": [],
   "source": []
  }
 ],
 "metadata": {
  "kernelspec": {
   "display_name": "base",
   "language": "python",
   "name": "python3"
  },
  "language_info": {
   "codemirror_mode": {
    "name": "ipython",
    "version": 3
   },
   "file_extension": ".py",
   "mimetype": "text/x-python",
   "name": "python",
   "nbconvert_exporter": "python",
   "pygments_lexer": "ipython3",
   "version": "3.12.7"
  }
 },
 "nbformat": 4,
 "nbformat_minor": 5
}
